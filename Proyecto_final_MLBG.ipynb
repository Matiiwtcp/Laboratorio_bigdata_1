{
  "nbformat": 4,
  "nbformat_minor": 0,
  "metadata": {
    "colab": {
      "provenance": [],
      "authorship_tag": "ABX9TyPQZm7TUIS2OpL69/1FG4ea",
      "include_colab_link": true
    },
    "kernelspec": {
      "name": "python3",
      "display_name": "Python 3"
    },
    "language_info": {
      "name": "python"
    }
  },
  "cells": [
    {
      "cell_type": "markdown",
      "metadata": {
        "id": "view-in-github",
        "colab_type": "text"
      },
      "source": [
        "<a href=\"https://colab.research.google.com/github/Matiiwtcp/Laboratorio_bigdata_1/blob/main/Proyecto_final_MLBG.ipynb\" target=\"_parent\"><img src=\"https://colab.research.google.com/assets/colab-badge.svg\" alt=\"Open In Colab\"/></a>"
      ]
    },
    {
      "cell_type": "markdown",
      "source": [
        "## Setup"
      ],
      "metadata": {
        "id": "oJFUbacqG85l"
      }
    },
    {
      "cell_type": "markdown",
      "source": [
        "Conectar drive"
      ],
      "metadata": {
        "id": "WJvsVoFHHBgt"
      }
    },
    {
      "cell_type": "code",
      "source": [
        "from google.colab import drive\n",
        "drive.mount('/content/drive')"
      ],
      "metadata": {
        "colab": {
          "base_uri": "https://localhost:8080/"
        },
        "id": "8dCkby2RJAi0",
        "outputId": "8847daf3-61a4-4252-d774-e677107ae235"
      },
      "execution_count": 1,
      "outputs": [
        {
          "output_type": "stream",
          "name": "stdout",
          "text": [
            "Mounted at /content/drive\n"
          ]
        }
      ]
    },
    {
      "cell_type": "code",
      "execution_count": null,
      "metadata": {
        "id": "kXdWnxGuFjzB"
      },
      "outputs": [],
      "source": [
        "ruta_de_archivos = '/content/drive/MyDrive/AAAUPSO/Global_Education.csv'\n",
        "dataframe = pd.read_csv(ruta_de_archivos, encoding='latin1')\n",
        "df = dataframe.copy ()"
      ]
    }
  ]
}